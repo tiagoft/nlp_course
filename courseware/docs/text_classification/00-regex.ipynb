{
 "cells": [
  {
   "cell_type": "markdown",
   "metadata": {},
   "source": [
    "# Regular expressions: finding text within text\n",
    "\n"
   ]
  },
  {
   "cell_type": "markdown",
   "metadata": {},
   "source": [
    "## Exercise 1\n",
    "\n",
    "There are many situations that call for detecting particular words in a text. For example, we could count how many times the word \"are\" appears in a text:"
   ]
  },
  {
   "cell_type": "code",
   "execution_count": 1,
   "metadata": {},
   "outputs": [],
   "source": [
    "text = \"\"\"\n",
    "Llamas are fascinating animals that are found in the Andes Mountains.\n",
    "Yoda says that cute animals they are.\n",
    "Are llamas cute? Yes they are!\n",
    "A llama never leaves its herd and will protect it with its life.\n",
    "They are known for their long necks and thick fur.\n",
    "Llamas are used as pack animals by indigenous people because they are strong and can carry heavy loads.\n",
    "They are also very social animals and are often seen in groups.\n",
    "Llamas ARE herbivores, which means they are only eating plants.\n",
    "They are also known for their gentle and calm nature, which makes them popular in petting zoos.\n",
    "Overall, llamas are remarkable creatures that are a joy to observe and are important to the cultures where they are found.\n",
    "\"\"\""
   ]
  },
  {
   "cell_type": "code",
   "execution_count": 2,
   "metadata": {},
   "outputs": [
    {
     "name": "stdout",
     "output_type": "stream",
     "text": [
      "The word \"are\" appears 13 times in this text.\n"
     ]
    }
   ],
   "source": [
    "\n",
    "def find_words(word_to_find, text):\n",
    "    words = text.split()\n",
    "    matching_words = []\n",
    "    for w in words:\n",
    "        if w == word_to_find:\n",
    "            matching_words.append(w)\n",
    "    return len(matching_words)\n",
    "\n",
    "word_to_find = \"are\"\n",
    "count = find_words(word_to_find, text)\n",
    "print(f'The word \"are\" appears {count} times in this text.')"
   ]
  },
  {
   "cell_type": "markdown",
   "metadata": {},
   "source": [
    "This is a somewhat naive approach. It tends to miss variations of a word. For example, the word \"are.\" in the end of the second line is not counted in this approach\n",
    "\n",
    "Spot the ocurrences of the word \"are\" that are not caught by this code.\n",
    "\n",
    "Hint: how does string equality (`s1==s2`) work with uppercase/lowercase or punctuation?"
   ]
  },
  {
   "cell_type": "markdown",
   "metadata": {},
   "source": [
    "## Exercise 2\n",
    "\n",
    "If you check the documentation for Python's string library, you will find many methods that can help you make a better detector for words.\n",
    "\n",
    "Use them to rewrite the method `find_words_less_naive` below so that it:\n",
    "\n",
    "* Works when words have punctuation (that is, ignores punctuation)\n",
    "* Ignores case (uppercase/lowercase),\n",
    "* Does not count a word if it appears in a plural (ex: says does not count as a say)."
   ]
  },
  {
   "cell_type": "code",
   "execution_count": 3,
   "metadata": {},
   "outputs": [],
   "source": [
    "def find_words_less_naive(word_to_find, text):\n",
    "    words = text.split()\n",
    "    matching_words = []\n",
    "    for w in words:\n",
    "        if w == word_to_find:\n",
    "            matching_words.append(w)\n",
    "    return len(matching_words)"
   ]
  },
  {
   "cell_type": "markdown",
   "metadata": {},
   "source": [
    "## Exercise 3\n",
    "\n",
    "You may have noticed that the words \"llama\" and \"llamas\" both start with \"llama\".\n",
    "\n",
    "If we wanted to make a function searching for either llama our llamas, then we could phrase it somewhat like:\n",
    "\n",
    "**The sequence `llama` followed by an optional `s`.**\n",
    "\n",
    "This type of pattern is called a regular expression.\n",
    "\n",
    "A regular expression is a string that contains:\n",
    "\n",
    "*Usual literal characters, like a, b, or 7\n",
    "*Special markers, which present special behaviors.\n",
    "\n",
    "We use regular expressions to search for these patterns within strings. It could be seen as a more advanced way of using string.find. Actually, searching for a regular expression without any special character would lead to the same behavior as using string.find.\n",
    "\n",
    "Special characters, however, give us some interesting ideas.\n",
    "\n",
    "The `?` character, for example, means that the previous character is optional, that is: `llamas?` matches both `llama` and `llamas`.\n",
    "\n",
    "aa?bb?cc?\n",
    "\n",
    "Which of the strings below would match `aa?bb?cc?`\n",
    "\n",
    "1. cba\n",
    "1. abbcc\n",
    "1. abbc\n",
    "1. abcc\n",
    "1. aa\n",
    "1. aabbc\n",
    "1. abc\n",
    "1. aabc\n",
    "1. bcc\n",
    "1. abb\n",
    "1. aabcc\n",
    "1. ac\n",
    "1. ccbbaa\n"
   ]
  },
  {
   "cell_type": "markdown",
   "metadata": {},
   "source": [
    "## Exercise 4\n",
    "\n",
    "Now we know how to use sets and questions marks.\n",
    "\n",
    "Two other symbols that will be useful are:\n",
    "\n",
    "* `+` indicates one or more ocurrences of the previous symbol\n",
    "* `*` indicates zero or more ocurrences of the previous symbol\n",
    "\n",
    "Now, match the regular expressions below with their corresponding strings:\n",
    "\n",
    "| Strings | Expressions | \n",
    "| --- | --- | \n",
    "| BAbaaaccc | `[aA][bB]c*` |\n",
    "| Bccc | `[aA]?[bB]ccc` |\n",
    "| ab | `[aA][bB]c+` |\n",
    "| ABccccc | `[aAbB]*c+` |\n"
   ]
  },
  {
   "cell_type": "markdown",
   "metadata": {},
   "source": [
    "## Exercise 5\n",
    "\n",
    "There are some special sets we should be aware of:\n",
    "\n",
    "the `[A-Z]` denotes a range. In this case, the set would contain all uppercase ascii characters from A to Z.\n",
    "Ranges can be combined, like `[A-Za-z]` for all ascii characters\n",
    "Modern regular expressions have sets such as `\\w` to denote any character that can form a word, or `\\d` for any digit.\n",
    "Check the documentation at https://docs.python.org/3/library/re.html to see more symbols!\n",
    "\n",
    "Match the strings below with their corresponding expressions:\n",
    "\n",
    "| Strings | Expressions | \n",
    "| --- | --- | \n",
    "| SnakeCaseVariableNames123 | `\\w+.com` |\n",
    "| nlp.com | `\\w+` |\n",
    "| 123432412394 | `\\w\\w\\w+[.]com` |\n",
    "| Brown | `[A-Za-z][A-Za-z0-9]+` |\n",
    "| n!com | `\\d+` |\n"
   ]
  }
 ],
 "metadata": {
  "kernelspec": {
   "display_name": "nlp_course",
   "language": "python",
   "name": "python3"
  },
  "language_info": {
   "codemirror_mode": {
    "name": "ipython",
    "version": 3
   },
   "file_extension": ".py",
   "mimetype": "text/x-python",
   "name": "python",
   "nbconvert_exporter": "python",
   "pygments_lexer": "ipython3",
   "version": "3.12.8"
  }
 },
 "nbformat": 4,
 "nbformat_minor": 2
}
