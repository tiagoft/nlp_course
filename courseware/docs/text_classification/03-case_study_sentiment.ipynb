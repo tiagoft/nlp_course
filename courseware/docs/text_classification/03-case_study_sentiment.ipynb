{
 "cells": [
  {
   "cell_type": "markdown",
   "id": "0ca1dfec",
   "metadata": {},
   "source": [
    "# Text classification with a Bag-of-Words approach: a case study for sentiment analysis\n",
    "\n",
    "Classifying texts is the task of assigning a label to each of the elements of a dataset. In text classification, this task is achieved by analyzing and extracting information from text data. One patent example of such is the task of sentiment analysis.\n",
    "\n",
    "Sentiment analysis is the task of identifying if the general sentiment of an excerpt should be considered \"positive\" or \"negative\". Although this is a well known and largely studied problem, it has gained a special importance in the last few years because of the need to monitor social media to find floating sentiments towards particular entities."
   ]
  },
  {
   "cell_type": "code",
   "execution_count": null,
   "id": "55bb598a",
   "metadata": {},
   "outputs": [],
   "source": []
  },
  {
   "cell_type": "markdown",
   "id": "dda495cd",
   "metadata": {},
   "source": [
    "## Classification by logistic regression\n",
    "\n",
    "One of the ways to perform classification is using Logistic Regression (LR). LR can be seen as a classification counterpart of linear regression. In linear regression, a vector $x$ of continuous features is multiplied by the transpose $w^T$ of a weight vector and has some bias added, yieding:\n",
    "\n",
    "$$\n",
    "z = xw^t + b.\n",
    "$$\n",
    "\n",
    "Note that this is equivalent to stating that $z = b+ \\sum_{i=1}^n x_nw_n$, that is, there is one element in $w$ for each element in $x$ and this element represents the weight given to that element in the final sum.\n",
    "\n",
    "Logistic Regression solves the problem of identifying the class (\"positive\" or \"negative\") that $x$ belongs to. In LR, the final output $y$ is given by $\\sigma(z)$, where:\n",
    "\n",
    "$$\n",
    "y=\\sigma(z)=\\frac{1}{1+e^{-z}}.\n",
    "$$\n",
    "\n",
    "This allows interpreting $y$ as the probability that $x$ belongs to the \"positive\" class. Consequently, the weights $w$ and the bias $b$ can be optimized by minimizing the cross entropy loss regarding a labeled dataset.\n",
    "\n",
    "Importantly, Logistic Regression calls for representing each element in the dataset using a vector. One of the solutions for such is the Bag-of-Words approach."
   ]
  },
  {
   "cell_type": "markdown",
   "id": "8fce5d5d",
   "metadata": {},
   "source": [
    "## Representing texts using Bag-of-words\n",
    "\n",
    "The \"bag\" in bag of words brings the idea that all words from a text are put into a bag and then shuffled. In this case, each element from a text dataset is represented by a vector $x \\in \\mathbb{R}^V$, where $V$ is the number of words in the vocabulary. Thus, $x_i$ corresponds to the $i$-th word in the vocabulary.\n",
    "\n",
    "The simplest way to find $x$ is to assume $x_i$ is $1$ if the corresponding word exists in the text, and $0$ if it does not, which makes each word follow a Bernoulli distribution. Another method is to make $x_i$ equal to the number of times the corresponding word appears in the text. This word count is called \"Term Frequency\" (TF).\n",
    "\n",
    "Another method it to divide TF by the number of documents the corresponding words appears in (that is, the Document Frequency DF). This method is called Term Frequency - Inverse Document Frequency (TFIDF), and yields a vector that informs how much each word is relevant to separate that document from the whole collection.\n",
    "\n",
    "Using BoW and LR is straightforward in Scikit Learn:"
   ]
  },
  {
   "cell_type": "code",
   "execution_count": 1,
   "id": "30a528f8",
   "metadata": {},
   "outputs": [],
   "source": [
    "from sklearn.feature_extraction.text import TfidfVectorizer\n",
    "from sklearn.linear_model import LogisticRegression\n",
    "from sklearn.pipeline import Pipeline\n",
    "\n",
    "# Create a pipeline with TfidfVectorizer and LogisticRegression\n",
    "pipeline = Pipeline([\n",
    "    ('tfidf', TfidfVectorizer()),\n",
    "    ('clf', LogisticRegression())\n",
    "])"
   ]
  },
  {
   "cell_type": "markdown",
   "id": "85349dd4",
   "metadata": {},
   "source": [
    "## Dataset: IMDB dataset\n",
    "\n",
    "In this study, we use the IMDB dataset because it is a well-known dataset. It is comprised of movie reviews extracted from the IMDB website. Reviews associated with a star rating of 4 our five are considered positive, whereas reviews associate with a star rating of 1 or 2 are considered negative. Reviews with a star rating of 3 are excluded form the dataset. The dataset is pre-divided into train and test sets:"
   ]
  },
  {
   "cell_type": "code",
   "execution_count": 2,
   "id": "d6b86e4d",
   "metadata": {},
   "outputs": [],
   "source": [
    "import pandas as pd\n",
    "\n",
    "train_df = pd.read_parquet(\"hf://datasets/stanfordnlp/imdb/plain_text/train-00000-of-00001.parquet\")\n",
    "test_df = pd.read_parquet(\"hf://datasets/stanfordnlp/imdb/plain_text/test-00000-of-00001.parquet\")"
   ]
  },
  {
   "cell_type": "code",
   "execution_count": 3,
   "id": "7dd231c0",
   "metadata": {},
   "outputs": [
    {
     "data": {
      "application/vnd.microsoft.datawrangler.viewer.v0+json": {
       "columns": [
        {
         "name": "index",
         "rawType": "int64",
         "type": "integer"
        },
        {
         "name": "text",
         "rawType": "object",
         "type": "string"
        },
        {
         "name": "label",
         "rawType": "int64",
         "type": "integer"
        }
       ],
       "ref": "eb209267-7052-468e-804d-6102c64687a0",
       "rows": [
        [
         "0",
         "I rented I AM CURIOUS-YELLOW from my video store because of all the controversy that surrounded it when it was first released in 1967. I also heard that at first it was seized by U.S. customs if it ever tried to enter this country, therefore being a fan of films considered \"controversial\" I really had to see this for myself.<br /><br />The plot is centered around a young Swedish drama student named Lena who wants to learn everything she can about life. In particular she wants to focus her attentions to making some sort of documentary on what the average Swede thought about certain political issues such as the Vietnam War and race issues in the United States. In between asking politicians and ordinary denizens of Stockholm about their opinions on politics, she has sex with her drama teacher, classmates, and married men.<br /><br />What kills me about I AM CURIOUS-YELLOW is that 40 years ago, this was considered pornographic. Really, the sex and nudity scenes are few and far between, even then it's not shot like some cheaply made porno. While my countrymen mind find it shocking, in reality sex and nudity are a major staple in Swedish cinema. Even Ingmar Bergman, arguably their answer to good old boy John Ford, had sex scenes in his films.<br /><br />I do commend the filmmakers for the fact that any sex shown in the film is shown for artistic purposes rather than just to shock people and make money to be shown in pornographic theaters in America. I AM CURIOUS-YELLOW is a good film for anyone wanting to study the meat and potatoes (no pun intended) of Swedish cinema. But really, this film doesn't have much of a plot.",
         "0"
        ],
        [
         "1",
         "\"I Am Curious: Yellow\" is a risible and pretentious steaming pile. It doesn't matter what one's political views are because this film can hardly be taken seriously on any level. As for the claim that frontal male nudity is an automatic NC-17, that isn't true. I've seen R-rated films with male nudity. Granted, they only offer some fleeting views, but where are the R-rated films with gaping vulvas and flapping labia? Nowhere, because they don't exist. The same goes for those crappy cable shows: schlongs swinging in the breeze but not a clitoris in sight. And those pretentious indie movies like The Brown Bunny, in which we're treated to the site of Vincent Gallo's throbbing johnson, but not a trace of pink visible on Chloe Sevigny. Before crying (or implying) \"double-standard\" in matters of nudity, the mentally obtuse should take into account one unavoidably obvious anatomical difference between men and women: there are no genitals on display when actresses appears nude, and the same cannot be said for a man. In fact, you generally won't see female genitals in an American film in anything short of porn or explicit erotica. This alleged double-standard is less a double standard than an admittedly depressing ability to come to terms culturally with the insides of women's bodies.",
         "0"
        ],
        [
         "2",
         "If only to avoid making this type of film in the future. This film is interesting as an experiment but tells no cogent story.<br /><br />One might feel virtuous for sitting thru it because it touches on so many IMPORTANT issues but it does so without any discernable motive. The viewer comes away with no new perspectives (unless one comes up with one while one's mind wanders, as it will invariably do during this pointless film).<br /><br />One might better spend one's time staring out a window at a tree growing.<br /><br />",
         "0"
        ],
        [
         "3",
         "This film was probably inspired by Godard's Masculin, féminin and I urge you to see that film instead.<br /><br />The film has two strong elements and those are, (1) the realistic acting (2) the impressive, undeservedly good, photo. Apart from that, what strikes me most is the endless stream of silliness. Lena Nyman has to be most annoying actress in the world. She acts so stupid and with all the nudity in this film,...it's unattractive. Comparing to Godard's film, intellectuality has been replaced with stupidity. Without going too far on this subject, I would say that follows from the difference in ideals between the French and the Swedish society.<br /><br />A movie of its time, and place. 2/10.",
         "0"
        ],
        [
         "4",
         "Oh, brother...after hearing about this ridiculous film for umpteen years all I can think of is that old Peggy Lee song..<br /><br />\"Is that all there is??\" ...I was just an early teen when this smoked fish hit the U.S. I was too young to get in the theater (although I did manage to sneak into \"Goodbye Columbus\"). Then a screening at a local film museum beckoned - Finally I could see this film, except now I was as old as my parents were when they schlepped to see it!!<br /><br />The ONLY reason this film was not condemned to the anonymous sands of time was because of the obscenity case sparked by its U.S. release. MILLIONS of people flocked to this stinker, thinking they were going to see a sex film...Instead, they got lots of closeups of gnarly, repulsive Swedes, on-street interviews in bland shopping malls, asinie political pretension...and feeble who-cares simulated sex scenes with saggy, pale actors.<br /><br />Cultural icon, holy grail, historic artifact..whatever this thing was, shred it, burn it, then stuff the ashes in a lead box!<br /><br />Elite esthetes still scrape to find value in its boring pseudo revolutionary political spewings..But if it weren't for the censorship scandal, it would have been ignored, then forgotten.<br /><br />Instead, the \"I Am Blank, Blank\" rhythymed title was repeated endlessly for years as a titilation for porno films (I am Curious, Lavender - for gay films, I Am Curious, Black - for blaxploitation films, etc..) and every ten years or so the thing rises from the dead, to be viewed by a new generation of suckers who want to see that \"naughty sex film\" that \"revolutionized the film industry\"...<br /><br />Yeesh, avoid like the plague..Or if you MUST see it - rent the video and fast forward to the \"dirty\" parts, just to get it over with.<br /><br />",
         "0"
        ]
       ],
       "shape": {
        "columns": 2,
        "rows": 5
       }
      },
      "text/html": [
       "<div>\n",
       "<style scoped>\n",
       "    .dataframe tbody tr th:only-of-type {\n",
       "        vertical-align: middle;\n",
       "    }\n",
       "\n",
       "    .dataframe tbody tr th {\n",
       "        vertical-align: top;\n",
       "    }\n",
       "\n",
       "    .dataframe thead th {\n",
       "        text-align: right;\n",
       "    }\n",
       "</style>\n",
       "<table border=\"1\" class=\"dataframe\">\n",
       "  <thead>\n",
       "    <tr style=\"text-align: right;\">\n",
       "      <th></th>\n",
       "      <th>text</th>\n",
       "      <th>label</th>\n",
       "    </tr>\n",
       "  </thead>\n",
       "  <tbody>\n",
       "    <tr>\n",
       "      <th>0</th>\n",
       "      <td>I rented I AM CURIOUS-YELLOW from my video sto...</td>\n",
       "      <td>0</td>\n",
       "    </tr>\n",
       "    <tr>\n",
       "      <th>1</th>\n",
       "      <td>\"I Am Curious: Yellow\" is a risible and preten...</td>\n",
       "      <td>0</td>\n",
       "    </tr>\n",
       "    <tr>\n",
       "      <th>2</th>\n",
       "      <td>If only to avoid making this type of film in t...</td>\n",
       "      <td>0</td>\n",
       "    </tr>\n",
       "    <tr>\n",
       "      <th>3</th>\n",
       "      <td>This film was probably inspired by Godard's Ma...</td>\n",
       "      <td>0</td>\n",
       "    </tr>\n",
       "    <tr>\n",
       "      <th>4</th>\n",
       "      <td>Oh, brother...after hearing about this ridicul...</td>\n",
       "      <td>0</td>\n",
       "    </tr>\n",
       "  </tbody>\n",
       "</table>\n",
       "</div>"
      ],
      "text/plain": [
       "                                                text  label\n",
       "0  I rented I AM CURIOUS-YELLOW from my video sto...      0\n",
       "1  \"I Am Curious: Yellow\" is a risible and preten...      0\n",
       "2  If only to avoid making this type of film in t...      0\n",
       "3  This film was probably inspired by Godard's Ma...      0\n",
       "4  Oh, brother...after hearing about this ridicul...      0"
      ]
     },
     "execution_count": 3,
     "metadata": {},
     "output_type": "execute_result"
    }
   ],
   "source": [
    "train_df.head(5)"
   ]
  },
  {
   "cell_type": "code",
   "execution_count": 4,
   "id": "21a711b1",
   "metadata": {},
   "outputs": [
    {
     "name": "stdout",
     "output_type": "stream",
     "text": [
      "              precision    recall  f1-score   support\n",
      "\n",
      "           0       0.88      0.88      0.88     12500\n",
      "           1       0.88      0.88      0.88     12500\n",
      "\n",
      "    accuracy                           0.88     25000\n",
      "   macro avg       0.88      0.88      0.88     25000\n",
      "weighted avg       0.88      0.88      0.88     25000\n",
      "\n"
     ]
    }
   ],
   "source": [
    "from sklearn.metrics import classification_report\n",
    "\n",
    "pipeline.fit(train_df['text'], train_df['label'])\n",
    "y_pred = pipeline.predict(test_df['text'])\n",
    "report = classification_report(test_df['label'], y_pred)\n",
    "print(report)"
   ]
  },
  {
   "cell_type": "markdown",
   "id": "0dfc0ab0",
   "metadata": {},
   "source": [
    "As we can see, the results are reasonable. Hence, we can proceed to analyze the model.\n"
   ]
  },
  {
   "cell_type": "markdown",
   "id": "5389ae95",
   "metadata": {},
   "source": [
    "## Why did it classify as it did?\n",
    "\n",
    "We can identify which words are typically the most important for classification. For such, we sweep the whole vocabulary and find $y$ corresponding to each of the inputs. The words with largest $y$ are associated with the \"positive\" class, whereas the words with lower $y$ are associated with the \"negative\" class. We can use `predict_proba` to find the values of $y$."
   ]
  },
  {
   "cell_type": "code",
   "execution_count": 5,
   "id": "a89e95f1",
   "metadata": {},
   "outputs": [],
   "source": [
    "import numpy as np\n",
    "\n",
    "# Extract the vocabulary and the classifier from the pipeline\n",
    "vocab = pipeline.named_steps['tfidf'].vocabulary_\n",
    "clf = pipeline.named_steps['clf']\n",
    "\n",
    "# Get the feature names (words) from the TfidfVectorizer\n",
    "feature_names = np.array(pipeline.named_steps['tfidf'].get_feature_names_out())\n",
    "# Calculate predict_proba for each word\n",
    "probabilities = pipeline.predict_proba(feature_names)\n",
    "\n",
    "# Create a dataframe with words and their probabilities\n",
    "proba_df = pd.DataFrame(probabilities, index=feature_names, columns=clf.classes_)\n",
    "proba_df.rename(columns={1 : 'positive', 0 : 'negative'}, inplace=True)\n",
    "proba_df = proba_df.sort_values(by='positive', ascending=False)"
   ]
  },
  {
   "cell_type": "code",
   "execution_count": 6,
   "id": "b1c0a841",
   "metadata": {},
   "outputs": [
    {
     "data": {
      "application/vnd.microsoft.datawrangler.viewer.v0+json": {
       "columns": [
        {
         "name": "index",
         "rawType": "object",
         "type": "string"
        },
        {
         "name": "negative",
         "rawType": "float64",
         "type": "float"
        },
        {
         "name": "positive",
         "rawType": "float64",
         "type": "float"
        }
       ],
       "ref": "8a1413c2-86e5-4309-8f9d-ff0861ee8625",
       "rows": [
        [
         "great",
         "0.000714412171704204",
         "0.9992855878282958"
        ],
        [
         "excellent",
         "0.0019730663797155046",
         "0.9980269336202845"
        ],
        [
         "best",
         "0.007317327065133328",
         "0.9926826729348667"
        ],
        [
         "perfect",
         "0.007732065501081076",
         "0.9922679344989189"
        ],
        [
         "wonderful",
         "0.009354596142161387",
         "0.9906454038578386"
        ]
       ],
       "shape": {
        "columns": 2,
        "rows": 5
       }
      },
      "text/html": [
       "<div>\n",
       "<style scoped>\n",
       "    .dataframe tbody tr th:only-of-type {\n",
       "        vertical-align: middle;\n",
       "    }\n",
       "\n",
       "    .dataframe tbody tr th {\n",
       "        vertical-align: top;\n",
       "    }\n",
       "\n",
       "    .dataframe thead th {\n",
       "        text-align: right;\n",
       "    }\n",
       "</style>\n",
       "<table border=\"1\" class=\"dataframe\">\n",
       "  <thead>\n",
       "    <tr style=\"text-align: right;\">\n",
       "      <th></th>\n",
       "      <th>negative</th>\n",
       "      <th>positive</th>\n",
       "    </tr>\n",
       "  </thead>\n",
       "  <tbody>\n",
       "    <tr>\n",
       "      <th>great</th>\n",
       "      <td>0.000714</td>\n",
       "      <td>0.999286</td>\n",
       "    </tr>\n",
       "    <tr>\n",
       "      <th>excellent</th>\n",
       "      <td>0.001973</td>\n",
       "      <td>0.998027</td>\n",
       "    </tr>\n",
       "    <tr>\n",
       "      <th>best</th>\n",
       "      <td>0.007317</td>\n",
       "      <td>0.992683</td>\n",
       "    </tr>\n",
       "    <tr>\n",
       "      <th>perfect</th>\n",
       "      <td>0.007732</td>\n",
       "      <td>0.992268</td>\n",
       "    </tr>\n",
       "    <tr>\n",
       "      <th>wonderful</th>\n",
       "      <td>0.009355</td>\n",
       "      <td>0.990645</td>\n",
       "    </tr>\n",
       "  </tbody>\n",
       "</table>\n",
       "</div>"
      ],
      "text/plain": [
       "           negative  positive\n",
       "great      0.000714  0.999286\n",
       "excellent  0.001973  0.998027\n",
       "best       0.007317  0.992683\n",
       "perfect    0.007732  0.992268\n",
       "wonderful  0.009355  0.990645"
      ]
     },
     "execution_count": 6,
     "metadata": {},
     "output_type": "execute_result"
    }
   ],
   "source": [
    "proba_df.head()"
   ]
  },
  {
   "cell_type": "code",
   "execution_count": 7,
   "id": "4f24fd3f",
   "metadata": {},
   "outputs": [
    {
     "data": {
      "application/vnd.microsoft.datawrangler.viewer.v0+json": {
       "columns": [
        {
         "name": "index",
         "rawType": "object",
         "type": "string"
        },
        {
         "name": "negative",
         "rawType": "float64",
         "type": "float"
        },
        {
         "name": "positive",
         "rawType": "float64",
         "type": "float"
        }
       ],
       "ref": "6b176d2f-a6c2-444e-af26-8c1f1e6e5b03",
       "rows": [
        [
         "boring",
         "0.9981896537096083",
         "0.0018103462903916875"
        ],
        [
         "waste",
         "0.9985228290591164",
         "0.0014771709408835675"
        ],
        [
         "awful",
         "0.9988536364747915",
         "0.0011463635252084946"
        ],
        [
         "bad",
         "0.9996009578260109",
         "0.0003990421739891149"
        ],
        [
         "worst",
         "0.9999309969032796",
         "6.900309672044561e-05"
        ]
       ],
       "shape": {
        "columns": 2,
        "rows": 5
       }
      },
      "text/html": [
       "<div>\n",
       "<style scoped>\n",
       "    .dataframe tbody tr th:only-of-type {\n",
       "        vertical-align: middle;\n",
       "    }\n",
       "\n",
       "    .dataframe tbody tr th {\n",
       "        vertical-align: top;\n",
       "    }\n",
       "\n",
       "    .dataframe thead th {\n",
       "        text-align: right;\n",
       "    }\n",
       "</style>\n",
       "<table border=\"1\" class=\"dataframe\">\n",
       "  <thead>\n",
       "    <tr style=\"text-align: right;\">\n",
       "      <th></th>\n",
       "      <th>negative</th>\n",
       "      <th>positive</th>\n",
       "    </tr>\n",
       "  </thead>\n",
       "  <tbody>\n",
       "    <tr>\n",
       "      <th>boring</th>\n",
       "      <td>0.998190</td>\n",
       "      <td>0.001810</td>\n",
       "    </tr>\n",
       "    <tr>\n",
       "      <th>waste</th>\n",
       "      <td>0.998523</td>\n",
       "      <td>0.001477</td>\n",
       "    </tr>\n",
       "    <tr>\n",
       "      <th>awful</th>\n",
       "      <td>0.998854</td>\n",
       "      <td>0.001146</td>\n",
       "    </tr>\n",
       "    <tr>\n",
       "      <th>bad</th>\n",
       "      <td>0.999601</td>\n",
       "      <td>0.000399</td>\n",
       "    </tr>\n",
       "    <tr>\n",
       "      <th>worst</th>\n",
       "      <td>0.999931</td>\n",
       "      <td>0.000069</td>\n",
       "    </tr>\n",
       "  </tbody>\n",
       "</table>\n",
       "</div>"
      ],
      "text/plain": [
       "        negative  positive\n",
       "boring  0.998190  0.001810\n",
       "waste   0.998523  0.001477\n",
       "awful   0.998854  0.001146\n",
       "bad     0.999601  0.000399\n",
       "worst   0.999931  0.000069"
      ]
     },
     "execution_count": 7,
     "metadata": {},
     "output_type": "execute_result"
    }
   ],
   "source": [
    "proba_df.tail()"
   ]
  },
  {
   "cell_type": "markdown",
   "id": "aaa39b97",
   "metadata": {},
   "source": [
    "As we can see, positive adjectives are associated with the positive class, while negative adjectives are associated with the negative class. This means that our system uses words that are meaningful towards our purpose. This can be seen as evidence that our model is not classifying based on spurious elements."
   ]
  },
  {
   "cell_type": "markdown",
   "id": "48e812d5",
   "metadata": {},
   "source": [
    "## How much data do we need?\n",
    "\n",
    "It is common to see phrases such as \"the more data, the better\". However, this is only true to some extent. To find the possible impact of enlarging our dataset, we commonly use a Learning Curve. A Learning Curve is a curve made by changing the size of the training set and then evaluating the accuracy for each training dataset size.\n",
    "\n",
    "The expected behavior is that the accuracy in the test set increases, while the accuracy in the train set decreases, until they asymptotically meet. This \"meeting point\" indicates the maximum amount of data that can lead to better results with the evaluated model, as well as the maximum accuracy for that same model. We can calculate the learning curve as:"
   ]
  },
  {
   "cell_type": "code",
   "execution_count": 8,
   "id": "b57b9f2a",
   "metadata": {},
   "outputs": [
    {
     "name": "stderr",
     "output_type": "stream",
     "text": [
      "  0%|          | 0/10 [00:00<?, ?it/s]"
     ]
    },
    {
     "name": "stderr",
     "output_type": "stream",
     "text": [
      "100%|██████████| 10/10 [04:48<00:00, 28.86s/it]\n"
     ]
    }
   ],
   "source": [
    "#from sklearn.model_selection import learning_curve\n",
    "\n",
    "def learning_curve(pipeline, train_df, test_df, cv, train_sizes):\n",
    "    from tqdm import tqdm\n",
    "    def get_score(pipeline, train_df, test_df):\n",
    "        X = train_df['text']\n",
    "        y = train_df['label']\n",
    "        pipeline.fit(X, y)\n",
    "        train_score = pipeline.score(X, y)\n",
    "        test_score = pipeline.score(test_df['text'], test_df['label'])\n",
    "        return train_score, test_score\n",
    "    \n",
    "    all_train_scores = []\n",
    "    all_test_scores = []\n",
    "    all_train_sizes = []\n",
    "    for train_size in tqdm(train_sizes):\n",
    "        train_scores = []\n",
    "        test_scores = []\n",
    "        train_sizes = []\n",
    "        for i in range(cv):\n",
    "            # Sample the training data\n",
    "            train_df_ = train_df.sample(frac=train_size, random_state=i)\n",
    "            train_score, test_score = get_score(pipeline, train_df_, test_df)\n",
    "            train_scores.append(train_score)\n",
    "            test_scores.append(test_score)\n",
    "            train_sizes.append(len(train_df_))\n",
    "\n",
    "        all_train_scores.append(train_scores)\n",
    "        all_test_scores.append(test_scores)\n",
    "        all_train_sizes.append(train_sizes)\n",
    "    return np.array(all_train_sizes), np.array(all_train_scores), np.array(all_test_scores)\n",
    "\n",
    "\n",
    "# Generate learning curve data\n",
    "train_sizes, train_scores, test_scores = learning_curve(\n",
    "    pipeline, train_df, test_df, cv=5, train_sizes=np.logspace(-2, 0, 10, base=10)\n",
    ")\n"
   ]
  },
  {
   "cell_type": "code",
   "execution_count": 9,
   "id": "28a9eaf2",
   "metadata": {},
   "outputs": [],
   "source": [
    "\n",
    "# Calculate mean and standard deviation for training and test scores\n",
    "train_scores_mean = np.mean(train_scores, axis=1)\n",
    "train_scores_std = np.std(train_scores, axis=1)\n",
    "test_scores_mean = np.mean(test_scores, axis=1)\n",
    "test_scores_std = np.std(test_scores, axis=1)\n",
    "train_sizes = np.mean(train_sizes, axis=1)"
   ]
  },
  {
   "cell_type": "code",
   "execution_count": 10,
   "id": "eead4c90",
   "metadata": {},
   "outputs": [
    {
     "data": {
      "text/plain": [
       "array([0.04412753, 0.01505746, 0.00520771, 0.00231387, 0.00297183,\n",
       "       0.00209783, 0.00268345, 0.00145459, 0.00060101, 0.        ])"
      ]
     },
     "execution_count": 10,
     "metadata": {},
     "output_type": "execute_result"
    }
   ],
   "source": [
    "test_scores_std"
   ]
  },
  {
   "cell_type": "code",
   "execution_count": 12,
   "id": "a2a73b90",
   "metadata": {},
   "outputs": [
    {
     "data": {
      "image/png": "[encoded data removed]",
      "text/plain": [
       "<Figure size 500x300 with 1 Axes>"
      ]
     },
     "metadata": {},
     "output_type": "display_data"
    }
   ],
   "source": [
    "# Plot the learning curve\n",
    "import matplotlib.pyplot as plt\n",
    "plt.figure(figsize=(5, 3))\n",
    "plt.plot(train_sizes, train_scores_mean, label='Training score', color='blue')\n",
    "plt.fill_between(train_sizes, train_scores_mean - 2*train_scores_std, train_scores_mean + 2*train_scores_std, color='blue', alpha=0.2)\n",
    "plt.plot(train_sizes, test_scores_mean, label='Cross-validation score', color='orange')\n",
    "plt.fill_between(train_sizes, test_scores_mean - 2*test_scores_std, test_scores_mean + 2*test_scores_std, color='orange', alpha=0.2)\n",
    "\n",
    "plt.title('Learning Curve')\n",
    "plt.xlabel('Training Set Size')\n",
    "plt.ylabel('Accuracy')\n",
    "plt.legend(loc='best')\n",
    "plt.semilogx()\n",
    "\n",
    "\n",
    "plt.grid()\n",
    "plt.show()"
   ]
  },
  {
   "cell_type": "markdown",
   "id": "8f3ff792",
   "metadata": {},
   "source": [
    "As we can see, if we had around $10^5$ data points (that is, a dataset at least twice as large as ours), our accuracy would probably reach around 92% accuracy. This means that adding more data would present diminishing gains."
   ]
  },
  {
   "cell_type": "markdown",
   "id": "62f0df96",
   "metadata": {},
   "source": [
    "## Conclusion\n",
    "\n",
    "In this case study, we used a TFIDF+LR pipeline to classify sentiments in the IMDB dataset. As we can see, the words used for classification are meaningful towards writing positive or negative reviews, which indicates the model is well-fitting. Also, the accuracy in the train and test sets is relatively low, which indicates the dataset size is adequate for this problem.\n",
    "\n",
    "Importantly, although the BoW model disregards the order in which words appear, it is able to capture the fact that some words are more likely to be used in particular contexts. Henceforth, this apparent disadvantage is not necessarily harmful to any classification problem."
   ]
  },
  {
   "cell_type": "markdown",
   "id": "3a524659",
   "metadata": {},
   "source": [
    "# Activities\n",
    "\n",
    "## Questions\n",
    "\n",
    "**Remembering (Recall facts and basic concepts)**\n",
    "\n",
    "1.  What is the main task being performed in this case study?\n",
    "2.  What machine learning algorithm is used for the classification task?\n",
    "3.  What technique is used to convert the text reviews into numerical feature vectors?\n",
    "4.  What specific variant of Bag-of-Words is used in the Scikit-learn pipeline? (TF-IDF)\n",
    "5.  What dataset is used for training and testing the model?\n",
    "6.  How were the labels (positive/negative) determined for the reviews in the IMDB dataset?\n",
    "\n",
    "**Understanding (Explain ideas or concepts)**\n",
    "\n",
    "7.  Explain in your own words the core idea behind the Bag-of-Words (BoW) text representation.\n",
    "8.  What is the purpose of the TF-IDF (Term Frequency-Inverse Document Frequency) weighting scheme compared to just counting word occurrences (Term Frequency)?\n",
    "9.  Why is a Scikit-learn `Pipeline` useful for combining the vectorization and classification steps?\n",
    "10. What does the learning curve plotted in the notebook illustrate? What do the two lines (training score and cross-validation score) represent?\n",
    "11. Explain the rationale behind analyzing the `predict_proba` scores for individual words in the vocabulary. What was the author trying to determine?\n",
    "\n",
    "**Applying (Use information in new situations)**\n",
    "\n",
    "12. How would you modify the code cell defining the `pipeline` to use a simple count vectorizer (Term Frequency) instead of TF-IDF?\n",
    "13. If you were given a new, unseen movie review text, what line(s) of code would you use (after the pipeline is trained) to predict whether it's positive or negative?\n",
    "14. Based on the learning curve shown, if you doubled the training data again (to approx. 200,000 reviews), what would you *roughly* expect to happen to the cross-validation accuracy?\n",
    "\n",
    "**Analyzing (Draw connections among ideas, compare/contrast, break down)**\n",
    "\n",
    "15. Analyze the classification report. What does it tell you about the model's ability to correctly identify positive reviews versus negative reviews? Are there significant differences in precision or recall?\n",
    "16. Compare the TF-IDF approach used here with a hypothetical approach that only uses word presence/absence (Bernoulli). What kind of information does TF-IDF capture that the simpler method doesn't?\n",
    "17. What potential limitation of the Bag-of-Words approach is mentioned in the notebook's conclusion? Why might this limitation not be completely detrimental for this specific sentiment analysis task?\n",
    "18. Looking at the learning curve, are the training and cross-validation scores close together or far apart as the training set size increases? What does this gap (or lack thereof) suggest about model variance or bias?\n",
    "\n",
    "**Evaluating (Justify a stand or decision, critique)**\n",
    "\n",
    "19. Evaluate the author's statement: \"the dataset size is adequate for this problem.\" Do you agree or disagree based *only* on the evidence presented in the learning curve? Justify your position.\n",
    "20. Critique the interpretability analysis performed (predicting probability for single words). While insightful, what potential inaccuracies or simplifications does this method introduce compared to how words contribute within a full review?"
   ]
  },
  {
   "cell_type": "markdown",
   "id": "41cb32a6",
   "metadata": {},
   "source": [
    "## Suggested answers\n",
    "\n",
    "**Remembering**\n",
    "\n",
    "1.  **What is the main task being performed in this case study?**\n",
    "    *   Suggested Answer: The main task is sentiment analysis, which is a type of text classification aimed at identifying whether a piece of text expresses a positive or negative sentiment.\n",
    "\n",
    "2.  **What machine learning algorithm is used for the classification task?**\n",
    "    *   Suggested Answer: Logistic Regression (LR) is used for the classification task.\n",
    "\n",
    "3.  **What technique is used to convert the text reviews into numerical feature vectors?**\n",
    "    *   Suggested Answer: The Bag-of-Words (BoW) approach is used to convert text into numerical vectors.\n",
    "\n",
    "4.  **What specific variant of Bag-of-Words is used in the Scikit-learn pipeline? (TF-IDF)**\n",
    "    *   Suggested Answer: The specific variant used is Term Frequency-Inverse Document Frequency (TF-IDF), implemented via `TfidfVectorizer`.\n",
    "\n",
    "5.  **What dataset is used for training and testing the model?**\n",
    "    *   Suggested Answer: The IMDB movie review dataset is used.\n",
    "\n",
    "6.  **How were the labels (positive/negative) determined for the reviews in the IMDB dataset?**\n",
    "    *   Suggested Answer: Reviews with a star rating of 4 or 5 were considered positive (label 1), and reviews with a rating of 1 or 2 were considered negative (label 0). Reviews with a 3-star rating were excluded.\n",
    "\n",
    "**Understanding**\n",
    "\n",
    "7.  **Explain in your own words the core idea behind the Bag-of-Words (BoW) text representation.**\n",
    "    *   Suggested Answer: BoW treats a text document as an unordered collection (like words thrown into a bag) of its words, disregarding grammar and word order. It represents the document as a numerical vector where each dimension corresponds to a unique word in the entire dataset's vocabulary, and the value in that dimension indicates the presence, count, or weighted frequency (like TF-IDF) of that word in the document.\n",
    "\n",
    "8.  **What is the purpose of the TF-IDF (Term Frequency-Inverse Document Frequency) weighting scheme compared to just counting word occurrences (Term Frequency)?**\n",
    "    *   Suggested Answer: TF-IDF aims to give higher importance to words that are frequent in a specific document but rare across the entire collection of documents. It down-weights words that appear very commonly everywhere (like \"the\", \"a\", \"is\"), which are less informative for distinguishing between documents, and boosts the weight of terms that are more unique or characteristic of a particular document.\n",
    "\n",
    "9.  **Why is a Scikit-learn `Pipeline` useful for combining the vectorization and classification steps?**\n",
    "    *   Suggested Answer: A `Pipeline` is useful because it chains the text vectorization (TF-IDF) and classification (Logistic Regression) steps into a single object. This simplifies the process of training and prediction, ensuring that the same transformations are applied consistently to both training and testing data. It also helps prevent data leakage, as the vectorizer is fitted only on the training data within the cross-validation folds when used with functions like `learning_curve`.\n",
    "\n",
    "10. **What does the learning curve plotted in the notebook illustrate? What do the two lines (training score and cross-validation score) represent?**\n",
    "    *   Suggested Answer: The learning curve illustrates how the model's performance (accuracy) changes as the amount of training data increases. The 'Training score' line shows the model's accuracy on the data it was trained on at each size point. The 'Cross-validation score' line shows the model's average accuracy on unseen data (validation sets from cross-validation) at each training size point, giving a better estimate of how well the model generalizes.\n",
    "\n",
    "11. **Explain the rationale behind analyzing the `predict_proba` scores for individual words in the vocabulary. What was the author trying to determine?**\n",
    "    *   Suggested Answer: The rationale was to interpret the model and understand *which* words it learned to associate most strongly with positive and negative sentiments. By feeding individual words (as documents) into the trained pipeline and getting their predicted probabilities, the author could identify the words that the model considered the strongest indicators of positivity (high probability for class 1) and negativity (high probability for class 0), providing evidence for whether the model learned meaningful features.\n",
    "\n",
    "**Applying**\n",
    "\n",
    "12. **How would you modify the code cell defining the `pipeline` to use a simple count vectorizer (Term Frequency) instead of TF-IDF?**\n",
    "    *   Suggested Answer: You would import `CountVectorizer` from `sklearn.feature_extraction.text` and replace `TfidfVectorizer()` with `CountVectorizer()` in the pipeline definition:\n",
    "        ```python\n",
    "        from sklearn.feature_extraction.text import CountVectorizer\n",
    "        pipeline = Pipeline([\n",
    "            ('cv', CountVectorizer()), # Changed from 'tfidf', TfidfVectorizer()\n",
    "            ('clf', LogisticRegression())\n",
    "        ])\n",
    "        ```\n",
    "\n",
    "13. **If you were given a new, unseen movie review text, what line(s) of code would you use (after the pipeline is trained) to predict whether it's positive or negative?**\n",
    "    *   Suggested Answer: Assuming the trained pipeline object is named `pipeline` and the new review text is stored in a variable `new_review`, you would use:\n",
    "        ```python\n",
    "        prediction = pipeline.predict([new_review])\n",
    "        ```\n",
    "\n",
    "14. **Based on the learning curve shown, if you doubled the training data again (to approx. 200,000 reviews), what would you *roughly* expect to happen to the cross-validation accuracy?**\n",
    "    *   Suggested Answer: The learning curve shows the cross-validation score is starting to plateau around 40,000 samples (the end of the x-axis). Doubling the data again would likely lead to only very small, diminishing gains in accuracy, possibly increasing slightly towards the projected ~92%, but the improvement would be much less significant than the gains seen with smaller dataset sizes.\n",
    "\n",
    "**Analyzing**\n",
    "\n",
    "15. **Analyze the classification report. What does it tell you about the model's ability to correctly identify positive reviews versus negative reviews? Are there significant differences in precision or recall?**\n",
    "    *   Suggested Answer: The classification report shows that the model performs very similarly well on both positive (1) and negative (0) classes. The precision, recall, and F1-scores are all around 0.90 for both classes. There are no significant differences, indicating the model is balanced in its ability to identify both positive and negative reviews correctly.\n",
    "\n",
    "16. **Compare the TF-IDF approach used here with a hypothetical approach that only uses word presence/absence (Bernoulli). What kind of information does TF-IDF capture that the simpler method doesn't?**\n",
    "    *   Suggested Answer: TF-IDF captures two key pieces of information that a simple Bernoulli (presence/absence) approach doesn't: 1) **Term Frequency:** How often a word appears within a single document (a word appearing multiple times might be more important than one appearing once). 2) **Inverse Document Frequency:** How common or rare a word is across all documents (rare words are often more discriminative). By combining these, TF-IDF provides a weighted score reflecting a word's importance, whereas Bernoulli only provides a binary indication of presence.\n",
    "\n",
    "17. **What potential limitation of the Bag-of-Words approach is mentioned in the notebook's conclusion? Why might this limitation not be completely detrimental for this specific sentiment analysis task?**\n",
    "    *   Suggested Answer: The limitation mentioned is that BoW disregards the order in which words appear, losing sequence and grammatical structure information. This might not be completely detrimental for sentiment analysis because the overall sentiment is often strongly conveyed by the presence of specific sentiment-bearing keywords (like \"amazing,\" \"awful,\" \"boring,\" \"great\") regardless of their exact position or the sentence structure. The model can still learn that certain words are highly correlated with positive or negative labels.\n",
    "\n",
    "18. **Looking at the learning curve, are the training and cross-validation scores close together or far apart as the training set size increases? What does this gap (or lack thereof) suggest about model variance or bias?**\n",
    "    *   Suggested Answer: As the training set size increases, the training and cross-validation scores get closer together (converge). A small gap suggests low variance, meaning the model is not overfitting significantly to the training data and generalizes relatively well. If both scores converge at a level below desired performance, it could indicate higher bias (the model might be too simple to capture all the nuances). In this case, they converge around 90%, which is quite good, suggesting a reasonable balance, though the slight remaining gap and upward trend hint there's still a tiny bit of variance or potential for improvement with more data/model complexity.\n",
    "\n",
    "**Evaluating**\n",
    "\n",
    "19. **Evaluate the author's statement: \"the dataset size is adequate for this problem.\" Do you agree or disagree based *only* on the evidence presented in the learning curve? Justify your position.**\n",
    "    *   Suggested Answer: Based purely on the learning curve, the statement is reasonable but perhaps slightly optimistic regarding maximizing performance. The curve shows good performance (~90% accuracy) is achieved with the current data, and the cross-validation score is flattening, indicating diminishing returns from more data. So, it's adequate for achieving *good* results. However, the curve hasn't *completely* flattened, suggesting that more data (as the author estimates up to ~100k) *could* still provide a small improvement (potentially reaching ~92%). Therefore, while adequate for practical purposes and achieving high accuracy, it might not be fully adequate to squeeze out the absolute maximum performance possible with this model architecture.\n",
    "\n",
    "20. **Critique the interpretability analysis performed (predicting probability for single words). While insightful, what potential inaccuracies or simplifications does this method introduce compared to how words contribute within a full review?**\n",
    "    *   Suggested Answer: This method is a simplification because it treats each word in isolation, ignoring the context provided by surrounding words. In reality, word meaning and sentiment contribution can be context-dependent. For example:\n",
    "        *   **Negation:** \"not good\" has the opposite sentiment of \"good.\"\n",
    "        *   **Intensifiers/Mitigators:** \"very bad\" vs. \"a bit bad.\"\n",
    "        *   **Sarcasm:** Context can completely flip the apparent sentiment of words.\n",
    "        *   **Phrases:** Multi-word expressions can have specific meanings (e.g., \"kick the bucket\").\n",
    "    The analysis provides a useful glimpse into which words the model *generally* associates with labels but doesn't reflect how these words interact within the structure of actual reviews."
   ]
  },
  {
   "cell_type": "markdown",
   "id": "428408ac",
   "metadata": {},
   "source": []
  }
 ],
 "metadata": {
  "kernelspec": {
   "display_name": "nlp-course (3.12.9)",
   "language": "python",
   "name": "python3"
  },
  "language_info": {
   "codemirror_mode": {
    "name": "ipython",
    "version": 3
   },
   "file_extension": ".py",
   "mimetype": "text/x-python",
   "name": "python",
   "nbconvert_exporter": "python",
   "pygments_lexer": "ipython3",
   "version": "3.12.9"
  }
 },
 "nbformat": 4,
 "nbformat_minor": 5
}
