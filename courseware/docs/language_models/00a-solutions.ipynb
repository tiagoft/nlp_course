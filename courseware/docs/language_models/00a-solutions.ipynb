{
 "cells": [
  {
   "cell_type": "code",
   "execution_count": 2,
   "id": "2f8358e0",
   "metadata": {},
   "outputs": [],
   "source": [
    "import numpy as np \n",
    "import re"
   ]
  },
  {
   "cell_type": "code",
   "execution_count": 3,
   "id": "b3c6f7a7",
   "metadata": {},
   "outputs": [],
   "source": [
    "text = \"\"\"Natural language processing (NLP) is a subfield of linguistics, computer science, information engineering, and artificial intelligence\n",
    "concerned with the interactions between computers and human (natural) languages, in particular how to program computers to process and analyze\n",
    "large amounts of natural language data.\n",
    "Challenges in natural language processing frequently involve speech recognition, natural language understanding,\n",
    "and natural language generation. Nowadays, Artificial Intelligence is a highly trending technology and is gaining popularity among NLP developers.\n",
    "Although Artificial Intelligence is a marvelous technology and has wonderful results, it is still a developing technology and its ethical use is a major concern.\n",
    "\"\"\"\n",
    "\n",
    "words = re.findall(r\"\\b\\w+\\b\", text.upper())"
   ]
  },
  {
   "cell_type": "markdown",
   "id": "71b10054",
   "metadata": {},
   "source": [
    "## Exercise 01"
   ]
  },
  {
   "cell_type": "code",
   "execution_count": 5,
   "id": "5f443bb0",
   "metadata": {},
   "outputs": [
    {
     "name": "stdout",
     "output_type": "stream",
     "text": [
      "['NATURAL', 'LANGUAGE', 'PROCESSING', 'NLP', 'IS', 'A', 'SUBFIELD', 'OF', 'LINGUISTICS', 'COMPUTER', 'SCIENCE', 'INFORMATION', 'ENGINEERING', 'AND', 'ARTIFICIAL', 'INTELLIGENCE', 'CONCERNED', 'WITH', 'THE', 'INTERACTIONS', 'BETWEEN', 'COMPUTERS', 'AND', 'HUMAN', 'NATURAL', 'LANGUAGES', 'IN', 'PARTICULAR', 'HOW', 'TO', 'PROGRAM', 'COMPUTERS', 'TO', 'PROCESS', 'AND', 'ANALYZE', 'LARGE', 'AMOUNTS', 'OF', 'NATURAL', 'LANGUAGE', 'DATA', 'CHALLENGES', 'IN', 'NATURAL', 'LANGUAGE', 'PROCESSING', 'FREQUENTLY', 'INVOLVE', 'SPEECH', 'RECOGNITION', 'NATURAL', 'LANGUAGE', 'UNDERSTANDING', 'AND', 'NATURAL', 'LANGUAGE', 'GENERATION', 'NOWADAYS', 'ARTIFICIAL', 'INTELLIGENCE', 'IS', 'A', 'HIGHLY', 'TRENDING', 'TECHNOLOGY', 'AND', 'IS', 'GAINING', 'POPULARITY', 'AMONG', 'NLP', 'DEVELOPERS', 'ALTHOUGH', 'ARTIFICIAL', 'INTELLIGENCE', 'IS', 'A', 'MARVELOUS', 'TECHNOLOGY', 'AND', 'HAS', 'WONDERFUL', 'RESULTS', 'IT', 'IS', 'STILL', 'A', 'DEVELOPING', 'TECHNOLOGY', 'AND', 'ITS', 'ETHICAL', 'USE', 'IS', 'A', 'MAJOR', 'CONCERN']\n"
     ]
    }
   ],
   "source": [
    "print(words)"
   ]
  },
  {
   "cell_type": "code",
   "execution_count": 9,
   "id": "953ca6cd",
   "metadata": {},
   "outputs": [],
   "source": [
    "unique_words = set(words)\n",
    "\n",
    "model = {}\n",
    "for w in unique_words:\n",
    "    model[w] = {}\n",
    "    \n",
    "for i in range(len(words)-1):\n",
    "    palavra_atual = words[i]\n",
    "    proxima_palavra = words[i+1]\n",
    "    if proxima_palavra in model[palavra_atual]:\n",
    "        model[palavra_atual][proxima_palavra] += 1\n",
    "    else:\n",
    "        model[palavra_atual][proxima_palavra] = 1"
   ]
  },
  {
   "cell_type": "code",
   "execution_count": 10,
   "id": "d2635a60",
   "metadata": {},
   "outputs": [],
   "source": [
    "for w in model.keys():\n",
    "    s = 0\n",
    "    for k in model[w].keys():\n",
    "        s += model[w][k]\n",
    "    for k in model[w].keys():\n",
    "        model[w][k] /= s"
   ]
  },
  {
   "cell_type": "code",
   "execution_count": 11,
   "id": "0d31f154",
   "metadata": {},
   "outputs": [
    {
     "data": {
      "text/plain": [
       "{'NOWADAYS': {'ARTIFICIAL': 1.0},\n",
       " 'ITS': {'ETHICAL': 1.0},\n",
       " 'DATA': {'CHALLENGES': 1.0},\n",
       " 'INVOLVE': {'SPEECH': 1.0},\n",
       " 'CONCERN': {},\n",
       " 'ARTIFICIAL': {'INTELLIGENCE': 1.0},\n",
       " 'COMPUTERS': {'AND': 0.5, 'TO': 0.5},\n",
       " 'BETWEEN': {'COMPUTERS': 1.0},\n",
       " 'ANALYZE': {'LARGE': 1.0},\n",
       " 'LARGE': {'AMOUNTS': 1.0},\n",
       " 'GENERATION': {'NOWADAYS': 1.0},\n",
       " 'HAS': {'WONDERFUL': 1.0},\n",
       " 'TRENDING': {'TECHNOLOGY': 1.0},\n",
       " 'DEVELOPING': {'TECHNOLOGY': 1.0},\n",
       " 'ALTHOUGH': {'ARTIFICIAL': 1.0},\n",
       " 'SCIENCE': {'INFORMATION': 1.0},\n",
       " 'TO': {'PROGRAM': 0.5, 'PROCESS': 0.5},\n",
       " 'GAINING': {'POPULARITY': 1.0},\n",
       " 'HUMAN': {'NATURAL': 1.0},\n",
       " 'POPULARITY': {'AMONG': 1.0},\n",
       " 'MARVELOUS': {'TECHNOLOGY': 1.0},\n",
       " 'PROCESSING': {'NLP': 0.5, 'FREQUENTLY': 0.5},\n",
       " 'STILL': {'A': 1.0},\n",
       " 'NLP': {'IS': 0.5, 'DEVELOPERS': 0.5},\n",
       " 'NATURAL': {'LANGUAGE': 0.8333333333333334, 'LANGUAGES': 0.16666666666666666},\n",
       " 'LINGUISTICS': {'COMPUTER': 1.0},\n",
       " 'INTERACTIONS': {'BETWEEN': 1.0},\n",
       " 'CHALLENGES': {'IN': 1.0},\n",
       " 'IS': {'A': 0.6666666666666666,\n",
       "  'GAINING': 0.16666666666666666,\n",
       "  'STILL': 0.16666666666666666},\n",
       " 'INFORMATION': {'ENGINEERING': 1.0},\n",
       " 'MAJOR': {'CONCERN': 1.0},\n",
       " 'DEVELOPERS': {'ALTHOUGH': 1.0},\n",
       " 'HOW': {'TO': 1.0},\n",
       " 'FREQUENTLY': {'INVOLVE': 1.0},\n",
       " 'A': {'SUBFIELD': 0.2,\n",
       "  'HIGHLY': 0.2,\n",
       "  'MARVELOUS': 0.2,\n",
       "  'DEVELOPING': 0.2,\n",
       "  'MAJOR': 0.2},\n",
       " 'IN': {'PARTICULAR': 0.5, 'NATURAL': 0.5},\n",
       " 'AMONG': {'NLP': 1.0},\n",
       " 'USE': {'IS': 1.0},\n",
       " 'AND': {'ARTIFICIAL': 0.14285714285714285,\n",
       "  'HUMAN': 0.14285714285714285,\n",
       "  'ANALYZE': 0.14285714285714285,\n",
       "  'NATURAL': 0.14285714285714285,\n",
       "  'IS': 0.14285714285714285,\n",
       "  'HAS': 0.14285714285714285,\n",
       "  'ITS': 0.14285714285714285},\n",
       " 'WONDERFUL': {'RESULTS': 1.0},\n",
       " 'PARTICULAR': {'HOW': 1.0},\n",
       " 'PROCESS': {'AND': 1.0},\n",
       " 'SPEECH': {'RECOGNITION': 1.0},\n",
       " 'RECOGNITION': {'NATURAL': 1.0},\n",
       " 'CONCERNED': {'WITH': 1.0},\n",
       " 'PROGRAM': {'COMPUTERS': 1.0},\n",
       " 'ETHICAL': {'USE': 1.0},\n",
       " 'HIGHLY': {'TRENDING': 1.0},\n",
       " 'SUBFIELD': {'OF': 1.0},\n",
       " 'INTELLIGENCE': {'CONCERNED': 0.3333333333333333, 'IS': 0.6666666666666666},\n",
       " 'COMPUTER': {'SCIENCE': 1.0},\n",
       " 'IT': {'IS': 1.0},\n",
       " 'WITH': {'THE': 1.0},\n",
       " 'OF': {'LINGUISTICS': 0.5, 'NATURAL': 0.5},\n",
       " 'LANGUAGE': {'PROCESSING': 0.4,\n",
       "  'DATA': 0.2,\n",
       "  'UNDERSTANDING': 0.2,\n",
       "  'GENERATION': 0.2},\n",
       " 'RESULTS': {'IT': 1.0},\n",
       " 'ENGINEERING': {'AND': 1.0},\n",
       " 'LANGUAGES': {'IN': 1.0},\n",
       " 'AMOUNTS': {'OF': 1.0},\n",
       " 'TECHNOLOGY': {'AND': 1.0},\n",
       " 'UNDERSTANDING': {'AND': 1.0},\n",
       " 'THE': {'INTERACTIONS': 1.0}}"
      ]
     },
     "execution_count": 11,
     "metadata": {},
     "output_type": "execute_result"
    }
   ],
   "source": [
    "model"
   ]
  },
  {
   "cell_type": "markdown",
   "id": "288ccdf7",
   "metadata": {},
   "source": [
    "## 2"
   ]
  },
  {
   "cell_type": "code",
   "execution_count": 16,
   "id": "1bdf7f67",
   "metadata": {},
   "outputs": [
    {
     "data": {
      "text/plain": [
       "np.str_('alface')"
      ]
     },
     "execution_count": 16,
     "metadata": {},
     "output_type": "execute_result"
    }
   ],
   "source": [
    "np.random.choice(\n",
    "    [\"batata\", \"alface\", \"cenoura\"],\n",
    "    p=[0.1, 0.5, 0.4],\n",
    ")"
   ]
  },
  {
   "cell_type": "code",
   "execution_count": 44,
   "id": "007c84e5",
   "metadata": {},
   "outputs": [],
   "source": [
    "def suggestion(model, word):\n",
    "    if word not in model:\n",
    "        raise Exception(\"Word is not in model\")\n",
    "    \n",
    "    next_words = list(model[word].keys())\n",
    "    probs = np.array([model[word][w] for w in next_words])\n",
    "    try:\n",
    "        choice = np.random.choice(next_words, p=probs)\n",
    "    except:\n",
    "        return 'A'\n",
    "    return choice\n",
    "    "
   ]
  },
  {
   "cell_type": "code",
   "execution_count": null,
   "id": "18b0120e",
   "metadata": {},
   "outputs": [],
   "source": []
  },
  {
   "cell_type": "markdown",
   "id": "0ea81de1",
   "metadata": {},
   "source": [
    "# 3"
   ]
  },
  {
   "cell_type": "code",
   "execution_count": 46,
   "id": "c95a636f",
   "metadata": {},
   "outputs": [
    {
     "name": "stdout",
     "output_type": "stream",
     "text": [
      "A\n",
      "A HIGHLY TRENDING TECHNOLOGY AND IS STILL A MAJOR CONCERN A MAJOR CONCERN A SUBFIELD OF LINGUISTICS COMPUTER SCIENCE INFORMATION ENGINEERING\n"
     ]
    }
   ],
   "source": [
    "wordlist = []\n",
    "w = \"A\"\n",
    "print(w)\n",
    "\n",
    "wordlist.append(w)\n",
    "for _ in range(20):\n",
    "    w_ = suggestion(model, w)\n",
    "    w = w_\n",
    "    wordlist.append(w)\n",
    "\n",
    "print(' '.join(wordlist))\n",
    "    "
   ]
  },
  {
   "cell_type": "code",
   "execution_count": 47,
   "id": "ab850f94",
   "metadata": {},
   "outputs": [
    {
     "name": "stdout",
     "output_type": "stream",
     "text": [
      "INTELLIGENCE LANGUAGE POPULARITY DATA IS NATURAL NATURAL DEVELOPERS NLP ARTIFICIAL ETHICAL NLP BETWEEN A NATURAL AND ITS IN MAJOR IS\n"
     ]
    }
   ],
   "source": [
    "wordlist = []\n",
    "\n",
    "\n",
    "for _ in range(20):\n",
    "    w = np.random.choice(words)\n",
    "    wordlist.append(w)\n",
    "\n",
    "print(' '.join(wordlist))\n",
    "    "
   ]
  },
  {
   "cell_type": "markdown",
   "id": "7099cdbb",
   "metadata": {},
   "source": []
  },
  {
   "cell_type": "code",
   "execution_count": null,
   "id": "b627a186",
   "metadata": {},
   "outputs": [],
   "source": []
  }
 ],
 "metadata": {
  "kernelspec": {
   "display_name": "nlp-course (3.12.9)",
   "language": "python",
   "name": "python3"
  },
  "language_info": {
   "codemirror_mode": {
    "name": "ipython",
    "version": 3
   },
   "file_extension": ".py",
   "mimetype": "text/x-python",
   "name": "python",
   "nbconvert_exporter": "python",
   "pygments_lexer": "ipython3",
   "version": "3.12.9"
  }
 },
 "nbformat": 4,
 "nbformat_minor": 5
}
