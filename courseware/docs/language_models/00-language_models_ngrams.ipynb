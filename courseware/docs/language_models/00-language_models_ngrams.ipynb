{
 "cells": [
  {
   "cell_type": "markdown",
   "metadata": {},
   "source": [
    "# Linguistic Models: the XX-Century approach\n",
    "\n",
    "So far, we have used probabilistic models to determine the likelihood of finding a word $w$ in any document within the collection $c$, that is: $P(w | c)$. Implicitly, this means that the order of words within a document does not impact its meaning. Metaphorically, it's as if we placed all the words in a big bag, and therefore this type of representation based on the presence or absence of words is called a bag-of-words.\n",
    "\n",
    "The bag-of-words model is effective for many applications but can miss important characteristics of a word: on the one hand, it is unlikely that a text mentioning \"platypuses\" and \"kangaroos\" is not referring to both; on the other hand, the text: \"platypuses are more dangerous than kangaroos\" is very different from \"kangaroos are more dangerous than platypuses\".\n",
    "\n",
    "One way to create models for the order in which words appear in a text is called a generative linguistic model (or generative, depending on the translation you adopt). In this type of model, we estimate the probability of finding the $n$-th word of a sequence based on the previous word, that is:\n",
    "\n",
    "$𝑃(𝑤_𝑛∣𝑤_{𝑛−1})$\n",
    "\n",
    "We can create a small model for the phrase:\n",
    "\n",
    "Pass one, pass two, pass three\n",
    "\n",
    "In this case, our model gives us probabilities like:\n",
    "\n",
    "$P(\\text{pass} | \\text{one}) = 1$\n",
    "\n",
    "$P(\\text{pass} | \\text{two}) = 1$\n",
    "\n",
    "$P(\\text{two} | \\text{pass}) = 1/3$\n",
    "\n",
    "Note that these probabilities are estimated by counting in a training data set!"
   ]
  },
  {
   "cell_type": "markdown",
   "metadata": {},
   "source": [
    "## Exercise 1: conditional probabilities for next word\n",
    "\n",
    "In the excerpt below:\n",
    "\n",
    "Joana went for a walk with some of her seven dogs on a sunny afternoon, and she met a friend. A person who was there also stopped to talk to them, and some other dogs also stopped to play with the dogs.\n",
    "\n",
    "Calculate:\n",
    "\n",
    "* $P(\\text{afternoon} | \\text{sunny})$\n",
    "* $P(\\text{some} | \\text{with})$\n",
    "* $P(\\text{on} | \\text{dogs})$"
   ]
  },
  {
   "cell_type": "markdown",
   "metadata": {},
   "source": [
    "## Exercise 2: estimating a linguistic model\n",
    "\n",
    "There are many libraries that can be used to estimate the conditional probabilities for all words in a text. We are going to build these probabilities from scratch.\n",
    "\n",
    "The piece of code below splits a text into its individual words (we are not concerned with punctuation at this point).\n",
    "\n",
    "Add to the code so that we generate a \"dictionary of dictionaries\", similar to an inverted index. This structure must represent conditional probabilities in the following way:\n",
    "\n",
    "Suppose we have:\n",
    "\n",
    "* $P(\\text{dogs} | \\text{with}) = 0.2$\n",
    "* $P(\\text{dogs} | \\text{her}) = 0.3$\n",
    "* $P(\\text{cats} | \\text{her}) = 0.4$\n",
    "\n",
    "the data structure should look like:\n",
    "\n",
    "    {\n",
    "        'with' : { 'dogs' : 0.2 },\n",
    "        'her' : { 'dogs' : 0.3,\n",
    "                  'cats' : 0.4}\n",
    "    }\n",
    "\n"
   ]
  },
  {
   "cell_type": "code",
   "execution_count": 13,
   "metadata": {},
   "outputs": [
    {
     "name": "stdout",
     "output_type": "stream",
     "text": [
      "['NATURAL', 'LANGUAGE', 'PROCESSING', 'NLP', 'IS', 'A', 'SUBFIELD', 'OF', 'LINGUISTICS', 'COMPUTER', 'SCIENCE', 'INFORMATION', 'ENGINEERING', 'AND', 'ARTIFICIAL', 'INTELLIGENCE', 'CONCERNED', 'WITH', 'THE', 'INTERACTIONS', 'BETWEEN', 'COMPUTERS', 'AND', 'HUMAN', 'NATURAL', 'LANGUAGES', 'IN', 'PARTICULAR', 'HOW', 'TO', 'PROGRAM', 'COMPUTERS', 'TO', 'PROCESS', 'AND', 'ANALYZE', 'LARGE', 'AMOUNTS', 'OF', 'NATURAL', 'LANGUAGE', 'DATA', 'CHALLENGES', 'IN', 'NATURAL', 'LANGUAGE', 'PROCESSING', 'FREQUENTLY', 'INVOLVE', 'SPEECH', 'RECOGNITION', 'NATURAL', 'LANGUAGE', 'UNDERSTANDING', 'AND', 'NATURAL', 'LANGUAGE', 'GENERATION', 'NOWADAYS', 'ARTIFICIAL', 'INTELLIGENCE', 'IS', 'A', 'HIGHLY', 'TRENDING', 'TECHNOLOGY', 'AND', 'IS', 'GAINING', 'POPULARITY', 'AMONG', 'NLP', 'DEVELOPERS', 'ALTHOUGH', 'ARTIFICIAL', 'INTELLIGENCE', 'IS', 'A', 'MARVELOUS', 'TECHNOLOGY', 'AND', 'HAS', 'WONDERFUL', 'RESULTS', 'IT', 'IS', 'STILL', 'A', 'DEVELOPING', 'TECHNOLOGY', 'AND', 'ITS', 'ETHICAL', 'USE', 'IS', 'A', 'MAJOR', 'CONCERN']\n"
     ]
    }
   ],
   "source": [
    "import re\n",
    "\n",
    "text = \"\"\"Natural language processing (NLP) is a subfield of linguistics, computer science, information engineering, and artificial intelligence\n",
    "concerned with the interactions between computers and human (natural) languages, in particular how to program computers to process and analyze\n",
    "large amounts of natural language data.\n",
    "Challenges in natural language processing frequently involve speech recognition, natural language understanding,\n",
    "and natural language generation. Nowadays, Artificial Intelligence is a highly trending technology and is gaining popularity among NLP developers.\n",
    "Although Artificial Intelligence is a marvelous technology and has wonderful results, it is still a developing technology and its ethical use is a major concern.\n",
    "\"\"\"\n",
    "\n",
    "words = re.findall(r\"\\b\\w+\\b\", text.upper())\n",
    "print(words)\n",
    "\n",
    "conditional_probabilities = {}"
   ]
  },
  {
   "cell_type": "code",
   "execution_count": 14,
   "metadata": {},
   "outputs": [
    {
     "name": "stdout",
     "output_type": "stream",
     "text": [
      "False\n"
     ]
    }
   ],
   "source": [
    "# Use the code below to test your solution\n",
    "import joblib\n",
    "loaded_conditional_probabilities = joblib.load(\"conditional_probabilities.joblib\")\n",
    "print (conditional_probabilities == loaded_conditional_probabilities)"
   ]
  },
  {
   "cell_type": "markdown",
   "metadata": {},
   "source": [
    "## Exercise 3: suggest a next word\n",
    "\n",
    "Based on the model estimated in the previous exercise, program a function that takes a word and returns a possible next word. If the base word is not part of the model's vocabulary, it should return a random word from the vocabulary. Use the `np.random.choice` functionality to make choices with predefined probabilities, as shown below. Remember that you should use the probabilities calculated by your model."
   ]
  },
  {
   "cell_type": "code",
   "execution_count": 15,
   "metadata": {},
   "outputs": [
    {
     "name": "stdout",
     "output_type": "stream",
     "text": [
      "three\n"
     ]
    }
   ],
   "source": [
    "import numpy as np\n",
    "print(np.random.choice(['one', 'two', 'three'], p=[0.5, 0.2, 0.3]))"
   ]
  },
  {
   "cell_type": "markdown",
   "metadata": {},
   "source": [
    "## Exercise 4: make a text generator\n",
    "\n",
    "Use the functionality you implemented above to suggest next words, and then incorporate them into your text. For example:\n",
    "\n",
    "1. Start with \"artificial intelligence is\"\n",
    "1. Suggest word \"a\"\n",
    "1. Incorporate \"a\" into the original sentence, so that we have: \"artificial intelligence is a\"\n",
    "1. Suggest next word based on \"artificial intelligence is a\"\n",
    "1. Keep going!\n",
    "\n"
   ]
  },
  {
   "cell_type": "code",
   "execution_count": null,
   "metadata": {},
   "outputs": [],
   "source": [
    "def generate_text(model : dict, starting_string : str, num_words : int) -> str:\n",
    "    text = starting_string\n",
    "    # Generate words based on your model (model should be the conditional probabilities!)\n",
    "    return text"
   ]
  },
  {
   "cell_type": "markdown",
   "metadata": {},
   "source": [
    "## Exercise 5: use n-grams\n",
    "\n",
    "By now, you might have noticed that using one single word in the past to predict the next word feels wrong. This is because we choose words based on a long-term context - and using a single word is a large oversimplification on this.\n",
    "\n",
    "A possible solution is to change our original equation $𝑃(𝑤_𝑛∣𝑤_{𝑛−1})$ to a less naive one in which the probability of a word is calculated based on $L$ previous words ($L$ stands for \"context length\"): $𝑃(𝑤_𝑛∣𝑤_{𝑛−1}, w_{n-2}, \\cdots, w_{n-L})$ . For such, we will need to use n-grams.\n",
    "\n",
    "N-grams are simply sequences of N words that appear in the text. For example, in \"these are nice n-grams\", for n=2, we have the n-grams: \"these are\", \"are nice\", \"nice n-grams\". Note that now we can calculate $P(\\text{nice}|\\text{these are}).\n",
    "\n",
    "Based on the code below, change your code to find conditional probabilities so now we have a data structure that models $𝑃(𝑤_𝑛∣𝑤_{𝑛−1}, w_{n-2}, \\cdots, w_{n-L})$.\n"
   ]
  },
  {
   "cell_type": "code",
   "execution_count": null,
   "metadata": {},
   "outputs": [],
   "source": [
    "def get_ngrams(words : list, L : int) -> list:\n",
    "    ngrams = [tuple(words[i:i+L]) for i in range(len(words)-L)]\n",
    "    return ngrams\n"
   ]
  },
  {
   "cell_type": "markdown",
   "metadata": {},
   "source": [
    "## Exercise 6: a fallback strategy\n",
    "\n",
    "Also, by now, you probably found out that larger n-grams become more and more uncommon. This is so true that finding two texts that contain n-grams with a context $L$ larger than around 10 can be used as basis to flag copy-paste plagiarism. Hence, with larger n-grams, we will probably fall into situations in which we don't have information on how to proceed.\n",
    "\n",
    "On the other hand, we might like larger context lengths because they can make our texts more cohesive.\n",
    "\n",
    "How to deal with that?\n",
    "\n",
    "One possibility is to have a weighting strategy in which the probabilities for models that consider different n-gram lengths are combined. However, the optimal combination could be hard to obtain.\n",
    "\n",
    "Another possibility is to use a fallback strategy: we try a model with context $L$. If it fails to find the n-gram, then we proceed to a model with context $L-1$, and so on.\n",
    "\n",
    "Implement a system with a fallback strategy and train/test it in our original text."
   ]
  },
  {
   "cell_type": "code",
   "execution_count": 16,
   "metadata": {},
   "outputs": [],
   "source": [
    "# Make your solution here"
   ]
  },
  {
   "cell_type": "markdown",
   "metadata": {},
   "source": [
    "## Exercise 7: generation techniques\n",
    "\n",
    "At this point, we generate the \"next word\" in a sequence by sampling from a distribution measured from data. We can make some tweaks here to make our generated words more interesting.\n",
    "\n",
    "### Temperature\n",
    "\n",
    "One possibility is to use a parameter called *temperature*. The temperature parameter (often referred to as $\\tau$) is inspired in annealing processes. In this process, electrons in materias with high temperature jump more often, thus they can be found in a probability cloud with larger variance.\n",
    "\n",
    "When we use temperature, we sample from a distribution $P_z$ calculated by:\n",
    "\n",
    "$$P_z( A | B) =  \\frac{P( A | B) ^ {e^{-\\tau}}}{\\sum{P( A | B) ^ {e^{-\\tau}}}} $$\n",
    "\n",
    "Note that, in this equation, a high temperature $(\\tau \\rightarrow \\infty)$ leads $P_z(A|B)$ to become a uniform distribution, whereas low (negative) values make the distribution more spiky. \n",
    "\n",
    "Also, note that there are many formulations for temperature. I like this one because $\\tau=0$ implies in $P_z(A|B) = P(A|B)$, so we have an anchor point. Check the figures:"
   ]
  },
  {
   "cell_type": "code",
   "execution_count": 65,
   "metadata": {},
   "outputs": [
    {
     "name": "stdout",
     "output_type": "stream",
     "text": [
      "[0.5 0.4 0.1]\n"
     ]
    },
    {
     "data": {
      "image/png": "[encoded data removed]",
      "text/plain": [
       "<Figure size 1000x300 with 3 Axes>"
      ]
     },
     "metadata": {},
     "output_type": "display_data"
    }
   ],
   "source": [
    "import matplotlib.pyplot as plt\n",
    "def apply_temperature(P, tau):\n",
    "    z =  P**(np.exp(-tau))\n",
    "    return z / np.sum(z)\n",
    "P = np.array([0.5, 0.4, 0.1])\n",
    "print(apply_temperature(P, 0))\n",
    "plt.figure(figsize=(10,3))\n",
    "\n",
    "plt.subplot(1,3,2)\n",
    "plt.bar(range(3), apply_temperature(P, 0))\n",
    "plt.ylim(0,1)\n",
    "plt.title('$\\\\tau$ = 0')\n",
    "plt.subplot(1,3,3)\n",
    "plt.bar(range(3), apply_temperature(P, 2))\n",
    "plt.ylim(0,1)\n",
    "plt.title('$\\\\tau$ = 2')\n",
    "plt.subplot(1,3,1)\n",
    "plt.bar(range(3), apply_temperature(P, -2))\n",
    "plt.ylim(0,1)\n",
    "plt.title('$\\\\tau$ = -2')\n",
    "plt.suptitle('Higher temperature makes the distribution closer to uniform!')\n",
    "plt.tight_layout()\n",
    "plt.show()"
   ]
  },
  {
   "cell_type": "markdown",
   "metadata": {},
   "source": [
    "### Top-K\n",
    "\n",
    "Top-K generation is another interesting technique that essentially means we select the top $K$ most likely words from the distribution and then sample from them using uniform probabilities. The choice of $K$ impacts the level of randomness in the generation, and this technique can avoid large deviations from a particular trail of thought.\n",
    "\n",
    "### Implementing temperature or top-k\n",
    "\n",
    "Implement either temperature or top-k generation in your word generation function!"
   ]
  },
  {
   "cell_type": "markdown",
   "metadata": {},
   "source": [
    "## Exercise 8: reading from real data\n",
    "\n",
    "The code below loads The Complete Works of Shakespeare from Project Guttemberg. Use this text to train your model and check if you can generate some shakespeare-like texts using your model!"
   ]
  },
  {
   "cell_type": "code",
   "execution_count": 10,
   "metadata": {},
   "outputs": [],
   "source": [
    "import requests\n",
    "from pathlib import Path\n",
    "def load_shakespeare():\n",
    "    \"\"\"Getting Shakespeare text from Project Gutenberg \"\"\"\n",
    "\n",
    "    def download_file():\n",
    "        url = \"https://www.gutenberg.org/cache/epub/100/pg100.txt\"\n",
    "        response = requests.get(url, timeout=5)\n",
    "        if response.status_code != 200:\n",
    "            raise FileNotFoundError(\"Failed to download file.\")\n",
    "        text = response.content.decode('utf-8')\n",
    "        start_index = text.find(\"*** START OF THE PROJECT GUTENBERG EBOOK\")\n",
    "        end_index = text.find(\"*** END OF THE PROJECT GUTENBERG EBOOK\")\n",
    "        if start_index == -1 or end_index == -1:\n",
    "            raise ValueError(\"Failed to find the start \"\n",
    "                             \"or end of the book in the text.\")\n",
    "        text = text[start_index:end_index]\n",
    "        return text\n",
    "\n",
    "    filepath_shakespeare = Path(\"shakespeare.txt\")\n",
    "\n",
    "    if filepath_shakespeare.exists():\n",
    "        print(\"File already exists. Skipping download...\")\n",
    "        with open(filepath_shakespeare, 'r', encoding='utf-8') as file:\n",
    "            text = file.read()\n",
    "    else:\n",
    "        print(\"Downloading file...\")\n",
    "        text = download_file()\n",
    "        with open(filepath_shakespeare, 'w', encoding='utf-8') as file:\n",
    "            file.write(text)\n",
    "        print(\"Download complete and text should be in 'shakespeare.txt' file.\")\n",
    "\n",
    "    return text"
   ]
  },
  {
   "cell_type": "code",
   "execution_count": null,
   "metadata": {},
   "outputs": [],
   "source": [
    "# Make your solution here!"
   ]
  },
  {
   "cell_type": "markdown",
   "metadata": {},
   "source": [
    "## Exercise 9: Temperature and LLMs.\n",
    "\n",
    "Well here comes my usual text about \"everything is LLMs nowadays\". Let's try temperature experiments with LLMs!"
   ]
  },
  {
   "cell_type": "code",
   "execution_count": 5,
   "metadata": {},
   "outputs": [
    {
     "name": "stdout",
     "output_type": "stream",
     "text": [
      "Response 1 (low temp):  In generative models, temperature controls the randomness of the output.  A temperature of 1.0 means the model samples directly from its learned probability distribution.  Higher temperatures (e.g., 1.5) increase randomness, leading to more creative, surprising, and potentially nonsensical outputs.  The model becomes more likely to sample less probable tokens, exploring the less-visited parts of its probability landscape.  Lower temperatures (e.g., 0.5) decrease randomness, making the output more focused, deterministic, and likely to select the most probable tokens.  This results in more coherent but potentially less imaginative results.  Essentially, temperature acts as a dial controlling the balance between creativity and coherence in the generated text or other data.\n",
      "\n",
      "Response 2 (low temp):  In generative models, temperature controls the randomness of the output.  A temperature of 1.0 means the model samples directly from its learned probability distribution.  Higher temperatures (e.g., 1.5) increase randomness, leading to more creative, unexpected, and potentially nonsensical outputs.  The model becomes more likely to sample from less probable tokens, exploring the less-likely parts of its learned distribution.  Lower temperatures (e.g., 0.5) decrease randomness, resulting in more focused, deterministic, and often more repetitive outputs. The model favors high-probability tokens, sticking closer to the most likely sequences.  Essentially, temperature acts as a dial controlling the balance between creativity and coherence in the generated text or other data.\n",
      "\n",
      "Response 3 (high temp):  Temperature in generative models controls the randomness of the model's output.  A lower temperature (e.g., 0.2) makes the model more deterministic, favoring the most likely next tokens or features. This leads to sharper, more focused, and often more coherent outputs, but can also result in repetitive or predictable results.\n",
      "\n",
      "Higher temperatures (e.g., 1.0 or above) increase randomness, leading to more diverse and surprising outputs.  The model becomes less certain about its predictions, exploring a wider range of possibilities. While this fosters creativity, it may also result in nonsensical or incoherent text or images.\n",
      "\n",
      "Essentially, temperature acts as a knob to balance creativity and coherence in the generation process.  The optimal temperature depends heavily on the specific model and the desired output characteristics.\n",
      "\n",
      "Response 4 (high temp):  Temperature in generative models controls the randomness of the output.  A temperature of 1.0 means the model samples from its probability distribution directly, producing the most likely outputs.  Lower temperatures (e.g., 0.2) make the distribution sharper, concentrating probability on the highest-likelihood outputs resulting in more focused, deterministic samples. This often leads to more coherent but potentially less diverse results.  Higher temperatures (e.g., 2.0) flatten the distribution, increasing the probability of less likely outputs. This produces more surprising, creative, and diverse but potentially incoherent or nonsensical samples.  Essentially, temperature acts as a knob controlling the balance between quality and creativity.\n",
      "\n"
     ]
    }
   ],
   "source": [
    "import os\n",
    "from dotenv import load_dotenv\n",
    "import google.generativeai as genai\n",
    "\n",
    "load_dotenv()\n",
    "GEMINI_API_KEY = os.getenv('GEMINI_API_KEY')\n",
    "#GEMINI_API_KEY = # Go to https://aistudio.google.com/ to get a key. DO NOT commit your key to the repository!\n",
    "\n",
    "# Start the use of the API\n",
    "genai.configure(api_key=GEMINI_API_KEY)\n",
    "\n",
    "# Make our prompt here\n",
    "prompt = f\"Explain how temperature works in generative models in less than 200 words.\"\n",
    "generation_config_low_temp = genai.GenerationConfig(\n",
    "    max_output_tokens=500,\n",
    "    temperature=0.0,\n",
    ")\n",
    "\n",
    "generation_config_high_temp = genai.GenerationConfig(\n",
    "    max_output_tokens=500,\n",
    "    temperature=2.0,\n",
    ")\n",
    "\n",
    "# Use our prompt four times\n",
    "model = genai.GenerativeModel(model_name=\"gemini-1.5-flash\")\n",
    "\n",
    "response = model.generate_content(prompt,\n",
    "                                  generation_config=generation_config_low_temp)\n",
    "print(\"Response 1 (low temp): \", response.text)\n",
    "\n",
    "response = model.generate_content(prompt,\n",
    "                                  generation_config=generation_config_low_temp)\n",
    "print(\"Response 2 (low temp): \", response.text)\n",
    "\n",
    "response = model.generate_content(\n",
    "    prompt, generation_config=generation_config_high_temp)\n",
    "print(\"Response 3 (high temp): \", response.text)\n",
    "\n",
    "response = model.generate_content(\n",
    "    prompt, generation_config=generation_config_high_temp)\n",
    "print(\"Response 4 (high temp): \", response.text)\n"
   ]
  },
  {
   "cell_type": "markdown",
   "metadata": {},
   "source": [
    "Great! Now we know how to configure temperature with LLMs - they are simply a parameter in the call!\n",
    "\n",
    "Go on your own now. Let's try some ideas:\n",
    "\n",
    "1. Ask the LLM to generate a paragraph in which a shakespearean hero finds out his beloved one is married to another man.\n",
    "1. Intentionally describe the character in a bit more detail\n",
    "1. Insert the initial part of Shakespeare's Complete Works as part of the prompt, so that the system copies Shakespeare's style.\n",
    "1. Adjust the temperature parameter in the cases above. What do you notice in the results?\n",
    "\n",
    "After that, reflect on what you think - beyond a general feeling of \"quality - are possible differences between generating texts with n-grams and generating with LLMs."
   ]
  },
  {
   "cell_type": "markdown",
   "metadata": {},
   "source": []
  }
 ],
 "metadata": {
  "kernelspec": {
   "display_name": "nlp_course",
   "language": "python",
   "name": "python3"
  },
  "language_info": {
   "codemirror_mode": {
    "name": "ipython",
    "version": 3
   },
   "file_extension": ".py",
   "mimetype": "text/x-python",
   "name": "python",
   "nbconvert_exporter": "python",
   "pygments_lexer": "ipython3",
   "version": "3.12.8"
  }
 },
 "nbformat": 4,
 "nbformat_minor": 2
}
